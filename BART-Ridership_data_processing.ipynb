{
 "cells": [
  {
   "cell_type": "markdown",
   "metadata": {},
   "source": [
    "# BART Ridership data for cleaning"
   ]
  },
  {
   "cell_type": "code",
   "execution_count": 1,
   "metadata": {},
   "outputs": [],
   "source": [
    "# Dependencies\n",
    "import os\n",
    "import pandas as pd\n",
    "import numpy as np\n"
   ]
  },
  {
   "cell_type": "code",
   "execution_count": 2,
   "metadata": {},
   "outputs": [
    {
     "data": {
      "text/plain": [
       "['Ridership_201801.xlsx',\n",
       " 'Ridership_201802.xlsx',\n",
       " 'Ridership_201803.xlsx',\n",
       " 'Ridership_201804.xlsx',\n",
       " 'Ridership_201805.xlsx',\n",
       " 'Ridership_201806.xlsx',\n",
       " 'Ridership_201807.xlsx',\n",
       " 'Ridership_201808.xlsx',\n",
       " 'Ridership_201809.xlsx',\n",
       " 'Ridership_201810.xlsx',\n",
       " 'Ridership_201811.xlsx',\n",
       " 'Ridership_201812.xlsx']"
      ]
     },
     "execution_count": 2,
     "metadata": {},
     "output_type": "execute_result"
    }
   ],
   "source": [
    "# List down the files\n",
    "path = \"Data/\"\n",
    "\n",
    "files = os.listdir(path) # shows the files in the Data folder\n",
    "files.sort() # sort the file by order of month (based on file name)\n",
    "files # preview the files list"
   ]
  },
  {
   "cell_type": "code",
   "execution_count": 3,
   "metadata": {},
   "outputs": [
    {
     "ename": "SyntaxError",
     "evalue": "invalid syntax (<ipython-input-3-ebe0080be8a6>, line 5)",
     "output_type": "error",
     "traceback": [
      "\u001b[0;36m  File \u001b[0;32m\"<ipython-input-3-ebe0080be8a6>\"\u001b[0;36m, line \u001b[0;32m5\u001b[0m\n\u001b[0;31m    filenames = [filename[10:14] + \"-\" filename[15:16] for filename in files]\u001b[0m\n\u001b[0m                                              ^\u001b[0m\n\u001b[0;31mSyntaxError\u001b[0m\u001b[0;31m:\u001b[0m invalid syntax\n"
     ]
    }
   ],
   "source": [
    "# Create a list of dataframes arranged by month\n",
    "df_list = [pd.read_excel(path + file) for file in files]\n",
    "\n",
    "# Create a list of year-month based on the file names\n",
    "filenames = [filename[10:14] + \"-\" filename[15:16] for filename in files]\n",
    "filenames"
   ]
  },
  {
   "cell_type": "code",
   "execution_count": null,
   "metadata": {},
   "outputs": [],
   "source": [
    "# Create an empty list that will be populated by the data with converted column headers\n",
    "df_list2 = []\n",
    "\n",
    "# Create a for-loop that cleans each of the original dataframes\n",
    "for df in df_list:\n",
    "    \n",
    "    # Assign the top row of the original dataframe as the column header\n",
    "    df.columns = df.iloc[0] \n",
    "    \n",
    "    # The dataframe values come from row 1 onwards, removing the last row (\"total entries\")\n",
    "    df = df[1:-1] \n",
    "    \n",
    "    # Remove the \"Exits\" column\n",
    "    df = df.drop(\"Exits\", axis = 1) \n",
    "    \n",
    "    # Call the first column \"Exit_Station\"\n",
    "    df = df.rename(columns = {np.nan: \"Exit_Station\"}) \n",
    "    \n",
    "    # Add each df to the df_list2 list\n",
    "    df_list2.append(df)\n",
    "\n",
    "# Preview the list\n",
    "df_list2"
   ]
  },
  {
   "cell_type": "code",
   "execution_count": null,
   "metadata": {},
   "outputs": [],
   "source": [
    "# Define the function \"pivot\" which unpivots the dataframe to three columns\n",
    "# NB: list(df.columns[1:]) = create a list of column headers excluding \"Exit_Station\"\n",
    "def unpivot(df):\n",
    "    transformed_df = pd.melt(df_list2[0], id_vars = [\"Exit_Station\"], \n",
    "                             value_vars = list(df.columns[1:]), var_name = \"Entry_Station\", \n",
    "                             value_name = \"Avg_Weekday_Exits\")\n",
    "    return transformed_df"
   ]
  },
  {
   "cell_type": "code",
   "execution_count": null,
   "metadata": {},
   "outputs": [],
   "source": [
    "# Create a new list of dataframes containing transformed data (exit, entry, avg values)\n",
    "df_list3 = [unpivot(df) for df in df_list2]\n",
    "df_list3"
   ]
  },
  {
   "cell_type": "code",
   "execution_count": null,
   "metadata": {},
   "outputs": [],
   "source": []
  }
 ],
 "metadata": {
  "kernelspec": {
   "display_name": "Python 3",
   "language": "python",
   "name": "python3"
  },
  "language_info": {
   "codemirror_mode": {
    "name": "ipython",
    "version": 3
   },
   "file_extension": ".py",
   "mimetype": "text/x-python",
   "name": "python",
   "nbconvert_exporter": "python",
   "pygments_lexer": "ipython3",
   "version": "3.6.6"
  }
 },
 "nbformat": 4,
 "nbformat_minor": 2
}
